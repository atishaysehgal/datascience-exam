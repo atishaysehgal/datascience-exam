{
 "cells": [
  {
   "cell_type": "markdown",
   "metadata": {},
   "source": [
    "# Question 1.1.1\n",
    "\n"
   ]
  },
  {
   "cell_type": "code",
   "execution_count": 15,
   "metadata": {},
   "outputs": [],
   "source": [
    "fibonacci <- function(n) {\n",
    "    if(n < 2){\n",
    "        return(n)\n",
    "    } else {\n",
    "        return(fibonacci(n-1)+fibonacci(n-2))\n",
    "    }\n",
    "}"
   ]
  },
  {
   "cell_type": "code",
   "execution_count": 33,
   "metadata": {},
   "outputs": [
    {
     "name": "stdout",
     "output_type": "stream",
     "text": [
      "Which fibonacci number do you want? 30\n"
     ]
    },
    {
     "data": {
      "text/html": [
       "832040"
      ],
      "text/latex": [
       "832040"
      ],
      "text/markdown": [
       "832040"
      ],
      "text/plain": [
       "[1] 832040"
      ]
     },
     "metadata": {},
     "output_type": "display_data"
    }
   ],
   "source": [
    "fibonacci(as.numeric(readline(prompt = \"Which fibonacci number do you want? \")))"
   ]
  },
  {
   "cell_type": "markdown",
   "metadata": {},
   "source": [
    "# Question 1.1.2"
   ]
  },
  {
   "cell_type": "markdown",
   "metadata": {},
   "source": [
    "The time complexity is exponential - specifically $O(2^n)$ because we have to carry out a lot of repetitive calculations."
   ]
  },
  {
   "cell_type": "markdown",
   "metadata": {},
   "source": [
    "# Question 1.1.3"
   ]
  },
  {
   "cell_type": "code",
   "execution_count": 35,
   "metadata": {},
   "outputs": [],
   "source": [
    "fibonacci2 <- function(n) {\n",
    "  if(n < 2){\n",
    "      return(n)\n",
    "  } else {\n",
    "      fib <- c(0, 1)\n",
    "      for (i in 2:n) {\n",
    "          second <- fib[2]\n",
    "          fib[2] <- sum(fib)\n",
    "          fib[1] <- second\n",
    "        }\n",
    "        fib[2]\n",
    "      }\n",
    "}"
   ]
  },
  {
   "cell_type": "code",
   "execution_count": 41,
   "metadata": {},
   "outputs": [
    {
     "name": "stdout",
     "output_type": "stream",
     "text": [
      "Which fibonacci number do you want? 10\n"
     ]
    },
    {
     "data": {
      "text/html": [
       "55"
      ],
      "text/latex": [
       "55"
      ],
      "text/markdown": [
       "55"
      ],
      "text/plain": [
       "[1] 55"
      ]
     },
     "metadata": {},
     "output_type": "display_data"
    }
   ],
   "source": [
    "fibonacci2(as.numeric(readline(prompt = \"Which fibonacci number do you want? \")))"
   ]
  },
  {
   "cell_type": "markdown",
   "metadata": {},
   "source": [
    "# Question 1.1.4"
   ]
  },
  {
   "cell_type": "markdown",
   "metadata": {},
   "source": [
    "The Complexity is $O(n)$ because we have used a dynamic programming algorithm. We store the first two elements at each step in a list eliminating the need for recalculation from the beginning everytime. Space Complexity is $O(1)$"
   ]
  },
  {
   "cell_type": "markdown",
   "metadata": {},
   "source": [
    "# Question 1.1.5"
   ]
  },
  {
   "cell_type": "markdown",
   "metadata": {},
   "source": [
    "We could do the following for time complexity improvement:\n",
    "* We can use matrix exponentiation to further reduce the complexity to $log(n)$ - This works because we have\n",
    "$\\begin{bmatrix}\n",
    "  f_{n}\\\\\n",
    "  f_{n-1}\\\\\n",
    "\\end{bmatrix} = \\begin{bmatrix}\n",
    "  1 & 1\\\\\n",
    "  1 & 0\\\\\n",
    "\\end{bmatrix}^n\\begin{bmatrix}\n",
    "  f_{n-1}\\\\\n",
    "  f_{n-2}\\\\\n",
    "\\end{bmatrix}$\n",
    "At each step, we multiply the matrix by itself to finally get the $n^{th}$ value of the fibonacci sequence."
   ]
  },
  {
   "cell_type": "markdown",
   "metadata": {},
   "source": [
    "# Q 2.4: Should you pay or should you go?"
   ]
  },
  {
   "cell_type": "markdown",
   "metadata": {},
   "source": [
    "Modeling this game as a geometric distribution, at each stage in the game, I stand to make more and more money with less and less probability. If I flip to heads in the first trial, I'll make 1 dollar with $0.5$ $probability$. If I flip heads in the second trial, I'll make 2 dollars with probability $0.25$ $probability$. So the expected reward value increases at each step for me by 0.5 dollars. I wouldn't pay more than 2 dollars to play the game. The reason being that the probability of making a profit after betting more than 2 dollars is less than 50% which makes the odds against me. "
   ]
  },
  {
   "cell_type": "code",
   "execution_count": null,
   "metadata": {},
   "outputs": [],
   "source": []
  }
 ],
 "metadata": {
  "kernelspec": {
   "display_name": "R",
   "language": "R",
   "name": "ir"
  },
  "language_info": {
   "codemirror_mode": "r",
   "file_extension": ".r",
   "mimetype": "text/x-r-source",
   "name": "R",
   "pygments_lexer": "r",
   "version": "3.5.1"
  }
 },
 "nbformat": 4,
 "nbformat_minor": 2
}
